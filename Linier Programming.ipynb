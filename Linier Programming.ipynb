{
 "cells": [
  {
   "cell_type": "code",
   "execution_count": 1,
   "metadata": {},
   "outputs": [],
   "source": [
    "import pandas as pd\n",
    "from docplex.mp.model import Model\n",
    "import cplex\n",
    "import json"
   ]
  },
  {
   "cell_type": "markdown",
   "metadata": {},
   "source": [
    "# 1. Case\n",
    "\n",
    "Sebuah rombongan akan menonton pertunjukan drama di sebuah teater. Dalam rombongan tersebut terdapat paling sedikit 21 orang dewasa dan 20 anak-anak. Rombongan tersebut membawa uang Rp 3.000.000,00 untuk membeli tiket. Harga tiket untuk orang dewasa Rp 40.000,00. Harga tiket untuk anak-anak Rp 30.000,00. Berapa jumlah tiket paling banyak yang dapat dibeli rombongan tersebut ?"
   ]
  },
  {
   "cell_type": "markdown",
   "metadata": {},
   "source": [
    "# 2. Solve\n",
    "Permasalahan di atas dapat diselesaikan menggunakan linier programming karena terdapat suatu fungsi yang perlu dimaksimumkan dengan constrain tertentu. Misalkan **x** adalah **banyaknya orang dewasa** dan **y** adalah **banyaknya anak-anak**, maka kasus tersebut dapat dimodelkan menjadi\n",
    "\n",
    "#### Constraint\n",
    "- x >= 21\n",
    "- y >= 20\n",
    "- 40.000x + 30.000y  <= 3.000.000\n",
    "\n",
    "#### Goal (Objective)\n",
    "- max(x+y)"
   ]
  },
  {
   "cell_type": "code",
   "execution_count": 2,
   "metadata": {},
   "outputs": [],
   "source": [
    "# inisiasi model\n",
    "m = Model(name='unit allocation')"
   ]
  },
  {
   "cell_type": "code",
   "execution_count": 3,
   "metadata": {},
   "outputs": [],
   "source": [
    "# setup variabel\n",
    "x = m.integer_var(name='x')\n",
    "y = m.integer_var(name='y')"
   ]
  },
  {
   "cell_type": "code",
   "execution_count": 4,
   "metadata": {},
   "outputs": [
    {
     "data": {
      "text/plain": [
       "docplex.mp.LinearConstraint[](40000x+30000y,LE,3000000)"
      ]
     },
     "execution_count": 4,
     "metadata": {},
     "output_type": "execute_result"
    }
   ],
   "source": [
    "# setup constraint\n",
    "m.add_constraint(x >= 21)\n",
    "m.add_constraint(y >= 20)\n",
    "m.add_constraint(40000*x + 30000*y <= 3000000)"
   ]
  },
  {
   "cell_type": "code",
   "execution_count": 5,
   "metadata": {},
   "outputs": [],
   "source": [
    "# setup goals\n",
    "m.maximize(x+y)"
   ]
  },
  {
   "cell_type": "code",
   "execution_count": 6,
   "metadata": {},
   "outputs": [],
   "source": [
    "sol = m.solve()"
   ]
  },
  {
   "cell_type": "code",
   "execution_count": 7,
   "metadata": {},
   "outputs": [
    {
     "name": "stdout",
     "output_type": "stream",
     "text": [
      "solution for: unit allocation\n",
      "objective: 93\n",
      "x = 21\n",
      "y = 72\n"
     ]
    }
   ],
   "source": [
    "sol.display()"
   ]
  },
  {
   "cell_type": "code",
   "execution_count": 11,
   "metadata": {},
   "outputs": [],
   "source": [
    "## Convert to DataFrame"
   ]
  },
  {
   "cell_type": "code",
   "execution_count": 12,
   "metadata": {},
   "outputs": [],
   "source": [
    "sol_json = json.loads(sol.export_as_json_string()) "
   ]
  },
  {
   "cell_type": "code",
   "execution_count": 13,
   "metadata": {},
   "outputs": [],
   "source": [
    "df_solusi = pd.DataFrame(sol_json['CPLEXSolution']['variables'])\n",
    "df_solusi.drop('index',axis=1,inplace=True)\n",
    "df_solusi.columns = ['variabel','total']"
   ]
  },
  {
   "cell_type": "code",
   "execution_count": 14,
   "metadata": {},
   "outputs": [
    {
     "data": {
      "text/html": [
       "<div>\n",
       "<style scoped>\n",
       "    .dataframe tbody tr th:only-of-type {\n",
       "        vertical-align: middle;\n",
       "    }\n",
       "\n",
       "    .dataframe tbody tr th {\n",
       "        vertical-align: top;\n",
       "    }\n",
       "\n",
       "    .dataframe thead th {\n",
       "        text-align: right;\n",
       "    }\n",
       "</style>\n",
       "<table border=\"1\" class=\"dataframe\">\n",
       "  <thead>\n",
       "    <tr style=\"text-align: right;\">\n",
       "      <th></th>\n",
       "      <th>variabel</th>\n",
       "      <th>total</th>\n",
       "    </tr>\n",
       "  </thead>\n",
       "  <tbody>\n",
       "    <tr>\n",
       "      <th>0</th>\n",
       "      <td>x</td>\n",
       "      <td>21.0</td>\n",
       "    </tr>\n",
       "    <tr>\n",
       "      <th>1</th>\n",
       "      <td>y</td>\n",
       "      <td>72.0</td>\n",
       "    </tr>\n",
       "  </tbody>\n",
       "</table>\n",
       "</div>"
      ],
      "text/plain": [
       "  variabel total\n",
       "0        x  21.0\n",
       "1        y  72.0"
      ]
     },
     "execution_count": 14,
     "metadata": {},
     "output_type": "execute_result"
    }
   ],
   "source": [
    "df_solusi"
   ]
  },
  {
   "cell_type": "markdown",
   "metadata": {},
   "source": [
    "# 3. Kesimpulan \n",
    "Jadi jumlah tiket paling banyak yang bisa dibeli adalah 93 tiket"
   ]
  },
  {
   "cell_type": "code",
   "execution_count": null,
   "metadata": {},
   "outputs": [],
   "source": []
  }
 ],
 "metadata": {
  "kernelspec": {
   "display_name": "Python 3",
   "language": "python",
   "name": "python3"
  },
  "language_info": {
   "codemirror_mode": {
    "name": "ipython",
    "version": 3
   },
   "file_extension": ".py",
   "mimetype": "text/x-python",
   "name": "python",
   "nbconvert_exporter": "python",
   "pygments_lexer": "ipython3",
   "version": "3.8.5"
  }
 },
 "nbformat": 4,
 "nbformat_minor": 4
}
